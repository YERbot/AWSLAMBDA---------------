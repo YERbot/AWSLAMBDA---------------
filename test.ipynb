{
 "cells": [
  {
   "cell_type": "code",
   "execution_count": 1,
   "metadata": {},
   "outputs": [],
   "source": [
    "import requests"
   ]
  },
  {
   "cell_type": "code",
   "execution_count": 2,
   "metadata": {},
   "outputs": [
    {
     "name": "stdout",
     "output_type": "stream",
     "text": [
      "Requirement already satisfied: requests in c:\\users\\erbolat\\anaconda3\\lib\\site-packages (2.31.0)\n",
      "Requirement already satisfied: charset-normalizer<4,>=2 in c:\\users\\erbolat\\anaconda3\\lib\\site-packages (from requests) (2.0.4)\n",
      "Requirement already satisfied: idna<4,>=2.5 in c:\\users\\erbolat\\anaconda3\\lib\\site-packages (from requests) (3.4)\n",
      "Requirement already satisfied: urllib3<3,>=1.21.1 in c:\\users\\erbolat\\anaconda3\\lib\\site-packages (from requests) (1.26.18)\n",
      "Requirement already satisfied: certifi>=2017.4.17 in c:\\users\\erbolat\\anaconda3\\lib\\site-packages (from requests) (2023.11.17)\n"
     ]
    }
   ],
   "source": [
    "!pip install requests"
   ]
  },
  {
   "cell_type": "code",
   "execution_count": 3,
   "metadata": {},
   "outputs": [
    {
     "name": "stdout",
     "output_type": "stream",
     "text": [
      "Requirement already satisfied: keras-image-helper in c:\\users\\erbolat\\anaconda3\\lib\\site-packages (0.0.1)\n",
      "Requirement already satisfied: numpy in c:\\users\\erbolat\\anaconda3\\lib\\site-packages (from keras-image-helper) (1.26.3)\n",
      "Requirement already satisfied: pillow in c:\\users\\erbolat\\anaconda3\\lib\\site-packages (from keras-image-helper) (10.0.1)\n"
     ]
    }
   ],
   "source": [
    "!pip install keras-image-helper"
   ]
  },
  {
   "cell_type": "code",
   "execution_count": 10,
   "metadata": {},
   "outputs": [
    {
     "name": "stdout",
     "output_type": "stream",
     "text": [
      "{'statusCode': 200, 'body': '1 (дракон)'}\n"
     ]
    }
   ],
   "source": [
    "url = \"https://jrysnihuw1.execute-api.us-east-1.amazonaws.com/dinodragon/dida\"\n",
    "\n",
    "data = {\n",
    "    \"url\" : \"https://www.startpage.com/av/proxy-image?piurl=https%3A%2F%2Ftse2.mm.bing.net%2Fth%3Fid%3DOIP.OG5WbevyJDKHZO4f7Z9m6gHaE5%26pid%3DApi&sp=1715523604T7ca83fb72c879986382a4a0737396794aa3e7cca718780df27517f39a7136356\",\n",
    "}\n",
    "\n",
    "result = requests.post(url, json=data)\n",
    "\n",
    "print(result.json())"
   ]
  }
 ],
 "metadata": {
  "kernelspec": {
   "display_name": "awslambda",
   "language": "python",
   "name": "python3"
  },
  "language_info": {
   "codemirror_mode": {
    "name": "ipython",
    "version": 3
   },
   "file_extension": ".py",
   "mimetype": "text/x-python",
   "name": "python",
   "nbconvert_exporter": "python",
   "pygments_lexer": "ipython3",
   "version": "3.11.5"
  }
 },
 "nbformat": 4,
 "nbformat_minor": 2
}
